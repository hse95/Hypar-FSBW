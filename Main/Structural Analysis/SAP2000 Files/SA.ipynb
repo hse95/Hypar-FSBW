{
 "cells": [
  {
   "cell_type": "code",
   "execution_count": 1,
   "id": "966f624c",
   "metadata": {},
   "outputs": [
    {
     "data": {
      "text/plain": [
       "<module 'SAP_from_SPH' from 'C:\\\\Users\\\\45177\\\\PythonEverything\\\\Princeton\\\\2024\\\\Hamid_Hypar\\\\SAP_from_SPH.py'>"
      ]
     },
     "execution_count": 1,
     "metadata": {},
     "output_type": "execute_result"
    }
   ],
   "source": [
    "#Import packages\n",
    "import SAP_from_SPH as SAP\n",
    "import numpy as np\n",
    "from scipy.optimize import fsolve\n",
    "from importlib import reload\n",
    "import pandas as pd\n",
    "import matplotlib.pyplot as plt\n",
    "from scipy.signal import savgol_filter\n",
    "reload(SAP)"
   ]
  },
  {
   "cell_type": "code",
   "execution_count": 2,
   "id": "803688be",
   "metadata": {},
   "outputs": [
    {
     "data": {
      "text/plain": [
       "'   #%%\\n    SAP.Run_Sap(SAP_Model)\\n    #%%\\n    ret = SAP_Model.View.RefreshView(0, False)\\n\\n    #%%\\n    reload(SAP)\\n    #%%\\n    shell_res,col_res = SAP.Post_Sap(SAP_Model,area_num,node_num)\\n    #%%\\n    res_array=np.vstack((shell_res,col_res))\\n    #%%\\n    columns = [\"SPH-TH\",\"SPH-TH(no damping)\",\"DEAD-ST\",\"SPH-ST\",\"GODA-ST\",\"INUNDATION-ST\"]\\n    index = [\"Shell-Max Moment\",\"Shell-Max Shear\",\"Shell-Max Comp.\",\"Shell-Max Tension\",\"Maximum shell disp\",\"Col-Shear\",\"Col-Base Moment\",\"Col-Axial(negative-com)\"]\\n    df = pd.DataFrame(res_array,  index,columns)\\n    print(\"response\")\\n    #%%\\n    df.to_excel(\"Structural_H{}_T{}_w{}_b{}.xlsx\".format(Hw,T,warp_r,b))  \\n    #%%\\n    ret = my_sapobj.ApplicationExit(False)\\n\\n    SapModel = None\\n\\n    mySapObject = None'"
      ]
     },
     "execution_count": 2,
     "metadata": {},
     "output_type": "execute_result"
    }
   ],
   "source": [
    "def sap_response(b,c,theta,n_b,n_c,H_w,T_w,warp_r,path,press_file):\n",
    "    \n",
    "\n",
    "    #Parameters\n",
    "    gvty_water = 9.7706 # KN per m^3, density times GA g \n",
    "\n",
    "    # Parameters that define Hypar Geometry\n",
    "    #Unit KN & m\n",
    "    b1 = b #longitudinal dimension of lower panel\n",
    "    b2 = b\n",
    "    c1 = c #Left transverse dimension\n",
    "    c2 = c\n",
    "    A = (b1+b2)*(c1+c2) #Projected area\n",
    "    r = warp_r*A #Rise\n",
    "\n",
    "    theta_star = theta * np.pi / 180 # angle of inclination\n",
    "    h_star = (b1+b2)*np.sin(theta_star)#Height\n",
    "\n",
    "    #FEM discretization\n",
    "    n_b1 = n_b #Number of quad elements along longitudinal direction of lower panel\n",
    "    n_b2 = n_b #Number of quad elements along longitudinal direction of upper panel\n",
    "\n",
    "    n_c1 = n_c #Number of quad elements along transverse direction of left panel\n",
    "    n_c2 = n_c #Number of quad elements along transverse direction of right panel\n",
    "\n",
    "    h_off = 0.3 #Hinge offset (relative to the vertex)\n",
    "\n",
    "    #Column settings\n",
    "    col_b = 1.2 #Column side length\n",
    "    col_h = 1.2 #Column side length\n",
    "\n",
    "\n",
    "\n",
    "    #File name, API Path\n",
    "    APIPath = path\n",
    "    #APIPath = r'C:\\Users\\45177\\OneDrive - Princeton University\\Gaoyuan\\2021Fall\\Research\\ParametricStudy2021\\3D\\Hypar\\0.03_W\\H1\\T6\\measuretool'\n",
    "\n",
    "\n",
    "    #Pressure File from SPH\n",
    "    press_file = press_file\n",
    "\n",
    "    #Simulation time\n",
    "    num_dt = 1200 #number of time steps\n",
    "    time_step = 0.05 #0.1s time step\n",
    "\n",
    "    #Structure's position to the slope top\n",
    "    d_to_stop = 4\n",
    "\n",
    "\n",
    "\n",
    "    #%%\n",
    "    ######################\n",
    "    # Wave Settings      #   \n",
    "    ######################\n",
    "\n",
    "    Hw = H_w #Wave height for goda, doesn't matter here\n",
    "    dw = 4 #Inundation\n",
    "    d = 9 #Water depth\n",
    "    g = gvty_water #gravitational accel.\n",
    "    T = T_w #Wave period\n",
    "\n",
    "    Project_Name ='Hypar'\n",
    "    #Slope value\n",
    "    bot_x = 80\n",
    "    top_x = 116\n",
    "    slope = (d-dw)/(bot_x-top_x)\n",
    "\n",
    "    def eq_k (k,d=d,g=g):\n",
    "        return 2*np.pi/T - np.sqrt(g*k * np.tanh(k*d))\n",
    "    def wavenum_k(T,d):\n",
    "        return abs(fsolve(eq_k,1))\n",
    "    def lbd(T,d,g):\n",
    "        k = abs(fsolve(eq_k,1))\n",
    "        return k,2*np.pi / k\n",
    "\n",
    "    Lw = float((lbd(T,d,g))[1]) #Wavelength\n",
    "\n",
    "    if (5*Hw-d_to_stop) >= (d-dw)/slope:\n",
    "        hb = d\n",
    "    elif (5*Hw-d_to_stop) <= 0:\n",
    "        hb = dw\n",
    "    else:\n",
    "        hb =dw + (5*Hw-d_to_stop)*slope\n",
    "\n",
    "\n",
    "\n",
    "    #%%\n",
    "\n",
    "    SAP_Model,area_num,node_num,my_sapobj = SAP.Create_SAP_Hypar_Sea(Project_Name,APIPath,n_c1,n_c2,n_b1,n_b2,theta_star,r,c1,c2,b1,b2,h_off,col_b,col_h,press_file,num_dt,time_step,Hw,dw,hb,d,Lw,E_c = 4.4*10**7,gamma_shell = 23.52, E_shell = 4.4*10**7, U_shell = 0.2, T_E_shell = 9.9e-06,t_shell = 0.25)\n",
    "\n",
    "'''   #%%\n",
    "    SAP.Run_Sap(SAP_Model)\n",
    "    #%%\n",
    "    ret = SAP_Model.View.RefreshView(0, False)\n",
    "\n",
    "    #%%\n",
    "    reload(SAP)\n",
    "    #%%\n",
    "    shell_res,col_res = SAP.Post_Sap(SAP_Model,area_num,node_num)\n",
    "    #%%\n",
    "    res_array=np.vstack((shell_res,col_res))\n",
    "    #%%\n",
    "    columns = [\"SPH-TH\",\"SPH-TH(no damping)\",\"DEAD-ST\",\"SPH-ST\",\"GODA-ST\",\"INUNDATION-ST\"]\n",
    "    index = [\"Shell-Max Moment\",\"Shell-Max Shear\",\"Shell-Max Comp.\",\"Shell-Max Tension\",\"Maximum shell disp\",\"Col-Shear\",\"Col-Base Moment\",\"Col-Axial(negative-com)\"]\n",
    "    df = pd.DataFrame(res_array,  index,columns)\n",
    "    print(\"response\")\n",
    "    #%%\n",
    "    df.to_excel(\"Structural_H{}_T{}_w{}_b{}.xlsx\".format(Hw,T,warp_r,b))  \n",
    "    #%%\n",
    "    ret = my_sapobj.ApplicationExit(False)\n",
    "\n",
    "    SapModel = None\n",
    "\n",
    "    mySapObject = None'''\n"
   ]
  },
  {
   "cell_type": "code",
   "execution_count": 3,
   "id": "8b2b309f",
   "metadata": {},
   "outputs": [],
   "source": [
    "path = r'C:\\Users\\45177\\PythonEverything\\Princeton\\2024\\Hamid_Hypar\\Rn050'\n",
    "press_file = r'C:\\Users\\45177\\PythonEverything\\Princeton\\2024\\Hamid_Hypar\\Rn050\\Rn0.50_Ordered.csv'\n",
    "\n",
    "#Parameters\n",
    "b = 2.5 #m\n",
    "c = b\n",
    "theta = 90 #upright\n",
    "n_b = 15 \n",
    "n_c = n_b\n",
    "H_w  =3 #Dont matter\n",
    "T_w = 3 #Dont matter\n",
    "warp_r = 2.5/(2*b)**2"
   ]
  },
  {
   "cell_type": "code",
   "execution_count": 4,
   "id": "d49155b0",
   "metadata": {},
   "outputs": [
    {
     "name": "stderr",
     "output_type": "stream",
     "text": [
      "<ipython-input-4-f1ffeaf9ecdd>:1: DtypeWarning: Columns (0,1,2,3,4,5,6,7,8,9,10,11,12,13,14,15,16,17,18,19,20,21,22,23,24,25,26,27,28,29,30,31,32,33,34,35,36,37,38,39,40,41,42,43,44,45,46,47,48,49,50,51,52,53,54,55,56,57,58,59,60,61,62,63,64,65,66,67,68,69,70,71,72,73,74,75,76,77,78,79,80,81,82,83,84,85,86,87,88,89,90,91,92,93,94,95,96,97,98,99,100,101,102,103,104,105,106,107,108,109,110,111,112,113,114,115,116,117,118,119,120,121,122,123,124,125,126,127,128,129,130,131,132,133,134,135,136,137,138,139,140,141,142,143,144,145,146,147,148,149,150,151,152,153,154,155,156,157,158,159,160,161,162,163,164,165,166,167,168,169,170,171,172,173,174,175,176,177,178,179,180,181,182,183,184,185,186,187,188,189,190,191,192,193,194,195,196,197,198,199,200,201,202,203,204,205,206,207,208,209,210,211,212,213,214,215,216,217,218,219,220,221,222,223,224,225,226,227,228,229,230,231,232,233,234,235,236,237,238,239,240,241,242,243,244,245,246,247,248,249,250,251,252,253,254,255,256,257,258,259,260,261,262,263,264,265,266,267,268,269,270,271,272,273,274,275,276,277,278,279,280,281,282,283,284,285,286,287,288,289,290,291,292,293,294,295,296,297,298,299,300,301,302,303,304,305,306,307,308,309,310,311,312,313,314,315,316,317,318,319,320,321,322,323,324,325,326,327,328,329,330,331,332,333,334,335,336,337,338,339,340,341,342,343,344,345,346,347,348,349,350,351,352,353,354,355,356,357,358,359,360,361,362,363,364,365,366,367,368,369,370,371,372,373,374,375,376,377,378,379,380,381,382,383,384,385,386,387,388,389,390,391,392,393,394,395,396,397,398,399,400,401,402,403,404,405,406,407,408,409,410,411,412,413,414,415,416,417,418,419,420,421,422,423,424,425,426,427,428,429,430,431,432,433,434,435,436,437,438,439,440,441,442,443,444,445,446,447,448,449,450,451,452,453,454,455,456,457,458,459,460,461,462,463,464,465,466,467,468,469,470,471,472,473,474,475,476,477,478,479,480,481,482,483,484,485,486,487,488,489,490,491,492,493,494,495,496,497,498,499,500,501,502,503,504,505,506,507,508,509,510,511,512,513,514,515,516,517,518,519,520,521,522,523,524,525,526,527,528,529,530,531,532,533,534,535,536,537,538,539,540,541,542,543,544,545,546,547,548,549,550,551,552,553,554,555,556,557,558,559,560,561,562,563,564,565,566,567,568,569,570,571,572,573,574,575,576,577,578,579,580,581,582,583,584,585,586,587,588,589,590,591,592,593,594,595,596,597,598,599,600,601,602,603,604,605,606,607,608,609,610,611,612,613,614,615,616,617,618,619,620,621,622,623,624,625,626,627,628,629,630,631,632,633,634,635,636,637,638,639,640,641,642,643,644,645,646,647,648,649,650,651,652,653,654,655,656,657,658,659,660,661,662,663,664,665,666,667,668,669,670,671,672,673,674,675,676,677,678,679,680,681,682,683,684,685,686,687,688,689,690,691,692,693,694,695,696,697,698,699,700,701,702,703,704,705,706,707,708,709,710,711,712,713,714,715,716,717,718,719,720,721,722,723,724,725,726,727,728,729,730,731,732,733,734,735,736,737,738,739,740,741,742,743,744,745,746,747,748,749,750,751,752,753,754,755,756,757,758,759,760,761,762,763,764,765,766,767,768,769,770,771,772,773,774,775,776,777,778,779,780,781,782,783,784,785,786,787,788,789,790,791,792,793,794,795,796,797,798,799,800,801,802,803,804,805,806,807,808,809,810,811,812,813,814,815,816,817,818,819,820,821,822,823,824,825,826,827,828,829,830,831,832,833,834,835,836,837,838,839,840,841,842,843,844,845,846,847,848,849,850,851,852,853,854,855,856,857,858,859,860,861,862,863,864,865,866,867,868,869,870,871,872,873,874,875,876,877,878,879,880,881,882,883,884,885,886,887,888,889,890,891,892,893,894,895,896,897,898,899,900,901) have mixed types.Specify dtype option on import or set low_memory=False.\n",
      "  sap_response(b,c,theta,n_b,n_c,H_w,T_w,warp_r,path,press_file)\n"
     ]
    }
   ],
   "source": [
    "\n",
    "sap_response(b,c,theta,n_b,n_c,H_w,T_w,warp_r,path,press_file)\n",
    "        "
   ]
  },
  {
   "cell_type": "code",
   "execution_count": null,
   "id": "595524f7",
   "metadata": {},
   "outputs": [],
   "source": []
  },
  {
   "cell_type": "code",
   "execution_count": null,
   "id": "bac7c1e5",
   "metadata": {},
   "outputs": [],
   "source": []
  }
 ],
 "metadata": {
  "kernelspec": {
   "display_name": "Python 3",
   "language": "python",
   "name": "python3"
  },
  "language_info": {
   "codemirror_mode": {
    "name": "ipython",
    "version": 3
   },
   "file_extension": ".py",
   "mimetype": "text/x-python",
   "name": "python",
   "nbconvert_exporter": "python",
   "pygments_lexer": "ipython3",
   "version": "3.8.8"
  }
 },
 "nbformat": 4,
 "nbformat_minor": 5
}
