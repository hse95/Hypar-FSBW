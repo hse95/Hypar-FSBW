{
 "cells": [
  {
   "cell_type": "markdown",
   "metadata": {},
   "source": [
    "# Plotting wave gauge data"
   ]
  },
  {
   "cell_type": "markdown",
   "metadata": {},
   "source": [
    "## Experiment"
   ]
  },
  {
   "cell_type": "code",
   "execution_count": null,
   "metadata": {},
   "outputs": [],
   "source": [
    "import pandas as pd\n",
    "import matplotlib.pyplot as plt\n",
    "import numpy as np\n",
    "\n",
    "# Load the data with custom column names to handle the unconventional header setup\n",
    "Case = 'R050_T05_N75'\n",
    "file_path = 'Rn025_Experimental_Results/WG_{}.txt'.format(Case)\n",
    "# Read the data\n",
    "data = pd.read_csv(file_path, delim_whitespace=True, skiprows=4)\n",
    "# Extract only columns: 0th, 5th, 9th, 13th, 17th, 21st, 25th, 29th, 33rd, 37th\n",
    "data = data.iloc[:, [0, 5, 9, 13, 17, 25, 21, 29, 33, 37]]\n",
    "print(data.head())\n",
    "# Rename the columns\n",
    "data.columns = ['Time', 'WG0(m)', 'WG4(m)', 'WG2(m)', 'WG1(m)', 'WG7(m)', 'WG3(m)', 'WG5(m)', 'WG6(m)', 'WG8(m)']\n",
    "# Rerange the columns to be in order\n",
    "data = data[['Time', 'WG0(m)', 'WG1(m)', 'WG2(m)', 'WG3(m)', 'WG4(m)', 'WG5(m)', 'WG6(m)', 'WG7(m)', 'WG8(m)']] # Adjust as needed based on physical flume setup\n",
    "\n",
    "\n",
    "# Convert 'Time' to seconds relative to the start of the recording\n",
    "data['Time'] = pd.to_datetime(data['Time'], format='%H:%M:%S.%f')\n",
    "data['Seconds'] = (data['Time'] - data['Time'].min()).dt.total_seconds()\n",
    "\n",
    "\n",
    "# Create individual plots for each gauge with the adjusted time axis\n",
    "fig, axes = plt.subplots(nrows=9, ncols=1, figsize=(14, 25), sharex=True)\n",
    "for i, column in enumerate(data.columns[1:-1], start=1):  # Exclude 'Seconds' for plotting values\n",
    "    axes[i-1].plot(data['Seconds'], data[column], label=f'Experimental', color='black')\n",
    "    axes[i-1].set_title(f'Wave Height at WG {i-1}')\n",
    "    axes[i-1].set_ylabel('Wave Height (m)')\n",
    "    # axes[i-1].set_xlim(10, 20)\n",
    "    axes[i-1].set_ylim(-0.065, 0.065)\n",
    "    axes[i-1].legend()\n",
    "    axes[i-1].grid(True, alpha=0.15)\n",
    "\n",
    "# Set common labels and settings\n",
    "plt.xlabel('Time (seconds)')\n",
    "plt.tight_layout()\n",
    "plt.show()\n",
    "\n"
   ]
  },
  {
   "cell_type": "markdown",
   "metadata": {},
   "source": [
    "# SPH "
   ]
  },
  {
   "cell_type": "code",
   "execution_count": null,
   "metadata": {},
   "outputs": [],
   "source": [
    "import pandas as pd\n",
    "import matplotlib.pyplot as plt\n",
    "\n",
    "# Load the dataset, skipping the first three rows and using the correct delimiter\n",
    "file_path = # path to your file\n",
    "df = pd.read_csv(file_path, skiprows=3, delimiter=';')\n",
    "\n",
    "# Remove the 'Part' column if present\n",
    "df = df.loc[:, ~df.columns.str.contains('^Unnamed')]\n",
    "\n",
    "# Rename columns\n",
    "df.columns = ['Part', 'Time', 'WG0(m)', 'WG1(m)', 'WG2(m)', 'WG3(m)', 'WG4(m)', 'WG5(m)', 'WG6(m)', 'WG7(m)', 'WG8(m)']\n",
    "\n",
    "# Drop the 'Part' column as it is not needed for plotting\n",
    "df.drop(columns=['Part'], inplace=True)\n",
    "\n",
    "# Calculate average wave height from time = 5 seconds to 25 seconds and subtract it from each column\n",
    "start_time = 5\n",
    "end_time = 25\n",
    "mask = (df['Time'] >= start_time) & (df['Time'] <= end_time)\n",
    "average_wave_heights = df.loc[mask, df.columns[1:]].mean()\n",
    "\n",
    "for column in df.columns[1:]:\n",
    "    df[column] = df[column] - average_wave_heights[column]\n",
    "\n",
    "# Set font size for plots\n",
    "plt.rcParams.update({'font.size': 14})\n",
    "\n",
    "# Create individual plots for each gauge with the adjusted time axis\n",
    "fig, axes = plt.subplots(nrows=9, ncols=1, figsize=(14, 25), sharex=True)\n",
    "\n",
    "for i, column in enumerate(df.columns[1:], start=1):  # Exclude 'Time' for plotting values\n",
    "    axes[i-1].plot(df['Time'], df[column], label=f'SPH', color='black')\n",
    "    axes[i-1].set_title(f'Wave Height at WG {i-1}')\n",
    "    axes[i-1].set_ylabel('Wave Height (m)')\n",
    "    axes[i-1].set_ylim(-0.065, 0.065)\n",
    "    axes[i-1].legend()\n",
    "    axes[i-1].grid(True, alpha=0.15)\n",
    "\n",
    "# Set common labels and settings\n",
    "plt.xlabel('Time (seconds)')\n",
    "plt.tight_layout()\n",
    "plt.show()\n",
    "\n",
    "\n"
   ]
  }
 ],
 "metadata": {
  "kernelspec": {
   "display_name": "Python 3",
   "language": "python",
   "name": "python3"
  },
  "language_info": {
   "codemirror_mode": {
    "name": "ipython",
    "version": 3
   },
   "file_extension": ".py",
   "mimetype": "text/x-python",
   "name": "python",
   "nbconvert_exporter": "python",
   "pygments_lexer": "ipython3",
   "version": "3.11.5"
  }
 },
 "nbformat": 4,
 "nbformat_minor": 2
}
