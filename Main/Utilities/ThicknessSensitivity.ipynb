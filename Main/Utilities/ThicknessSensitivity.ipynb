{
 "cells": [
  {
   "cell_type": "markdown",
   "metadata": {},
   "source": [
    "## Thickness Sensitivity"
   ]
  },
  {
   "cell_type": "markdown",
   "metadata": {},
   "source": [
    "Example for thickness study plots. Values are extracted from SAP2000 files for concrete material but it can be changed in SAP2000 to steel, aluminium, etc."
   ]
  },
  {
   "cell_type": "code",
   "execution_count": null,
   "metadata": {},
   "outputs": [],
   "source": [
    "import matplotlib.pyplot as plt\n",
    "\n",
    "%matplotlib inline\n",
    "# Use high resolution for retina displays\n",
    "%config InlineBackend.figure_format = 'retina'\n",
    "# Data for plotting\n",
    "thickness = [5, 10, 15, 20, 25, 30, 35] # cm\n",
    "# Tensile stress values for different Rn values (MPa)\n",
    "# SAP2000\n",
    "Rn000 = [87.33234, 21.75697, 9.63978, 5.41, 3.45674, 2.39768, 1.76004]\n",
    "Rn025 = [11.87856, 5.43706, 3.30294, 2.254, 1.6518, 1.27394, 1.01874]\n",
    "Rn050 = [8.15539, 3.54043, 2.22371, 1.58912, 1.21031, 0.96013, 0.78649]\n",
    "\n",
    "\n",
    "\n",
    "# Setting up the plot\n",
    "plt.figure(figsize=(10, 6))\n",
    "plt.plot(thickness, Rn000, marker='o', linestyle='-', color='b', label=r'$R_n = 0.00$')\n",
    "plt.plot(thickness, Rn025, marker='s', linestyle='--', color='g', label=r'$R_n = 0.25$')\n",
    "plt.plot(thickness, Rn050, marker='^', linestyle='-.', color='r', label=r'$R_n = 0.50$')\n",
    "# plt.axhline(y=6, color='m', linestyle='dashed', label='Threshold (6 MPa)')\n",
    "# Labels and title with LaTeX formatting\n",
    "plt.xlabel('Thickness (cm)', fontsize=22)\n",
    "plt.ylabel('Principal Tensile Stress (MPa)', fontsize=22)\n",
    "plt.xticks(fontsize=22)\n",
    "plt.yticks(fontsize=22)\n",
    "\n",
    "# Additional settings\n",
    "plt.grid(True, alpha=0.15)\n",
    "plt.legend(fontsize=22)\n",
    "plt.show()\n"
   ]
  }
 ],
 "metadata": {
  "kernelspec": {
   "display_name": "Python 3",
   "language": "python",
   "name": "python3"
  },
  "language_info": {
   "codemirror_mode": {
    "name": "ipython",
    "version": 3
   },
   "file_extension": ".py",
   "mimetype": "text/x-python",
   "name": "python",
   "nbconvert_exporter": "python",
   "pygments_lexer": "ipython3",
   "version": "3.11.5"
  }
 },
 "nbformat": 4,
 "nbformat_minor": 2
}
